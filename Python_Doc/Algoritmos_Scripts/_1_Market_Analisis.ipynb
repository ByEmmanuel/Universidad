{
 "cells": [
  {
   "metadata": {},
   "cell_type": "markdown",
   "source": [
    "R_t, R_(t+1) = (P_(t+1) - P_t)/P_t\n",
    "O alternativamente\n",
    "R_t, R_(t+1) = (P_(t+1) / P_t) -1"
   ],
   "id": "606bb8abbaf75d6f"
  },
  {
   "metadata": {
    "ExecuteTime": {
     "end_time": "2025-07-24T20:51:44.928778Z",
     "start_time": "2025-07-24T20:51:44.920593Z"
    }
   },
   "cell_type": "code",
   "source": [
    "from Cython.Shadow import returns\n",
    "\n",
    "precios_a = [8.70, 8.91, 8.71]\n",
    "print((precios_a[1]/precios_a[0]) - 1)\n",
    "print((precios_a[2]/precios_a[1]) - 1)"
   ],
   "id": "8e216c75fe056728",
   "outputs": [
    {
     "name": "stdout",
     "output_type": "stream",
     "text": [
      "0.024137931034482918\n",
      "-0.022446689113355678\n"
     ]
    }
   ],
   "execution_count": 4
  },
  {
   "metadata": {},
   "cell_type": "markdown",
   "source": "### ¿Que representa esto?",
   "id": "bb81bdc85de940a1"
  },
  {
   "metadata": {},
   "cell_type": "markdown",
   "source": [
    "El porcentaje obtenido (%) de una compra y venta de un activo; esto se desgloza de la siguiente manera\n",
    "\n",
    "(Precio de venta / precio de compra) menos 1, para obtener un numero decimal que representa el % de retorno de nuestra accion"
   ],
   "id": "d88385af90b380c8"
  },
  {
   "metadata": {
    "ExecuteTime": {
     "end_time": "2025-07-24T21:05:12.535586Z",
     "start_time": "2025-07-24T21:05:12.284172Z"
    }
   },
   "cell_type": "code",
   "source": [
    "import numpy as np\n",
    "precios_a = np.array(precios_a)\n",
    "precios_a"
   ],
   "id": "4fede1fc337991e",
   "outputs": [
    {
     "data": {
      "text/plain": [
       "array([8.7 , 8.91, 8.71])"
      ]
     },
     "execution_count": 6,
     "metadata": {},
     "output_type": "execute_result"
    }
   ],
   "execution_count": 6
  },
  {
   "metadata": {
    "ExecuteTime": {
     "end_time": "2025-07-24T21:07:15.767027Z",
     "start_time": "2025-07-24T21:07:15.759574Z"
    }
   },
   "cell_type": "code",
   "source": [
    "array_retornos = (precios_a[1:] / precios_a[:-1]) - 1\n",
    "array_retornos"
   ],
   "id": "f1ecd6c5ab32880a",
   "outputs": [
    {
     "data": {
      "text/plain": [
       "array([ 0.02413793, -0.02244669])"
      ]
     },
     "execution_count": 9,
     "metadata": {},
     "output_type": "execute_result"
    }
   ],
   "execution_count": 9
  },
  {
   "metadata": {
    "ExecuteTime": {
     "end_time": "2025-07-24T21:12:46.291787Z",
     "start_time": "2025-07-24T21:12:46.263338Z"
    }
   },
   "cell_type": "code",
   "source": [
    "import pandas as pd\n",
    "precios = pd.DataFrame({\"BLUE\":   [8.70, 8.91, 8.71, 8.43, 8.73] ,\n",
    "                        \"ORAGNE\": [10.66, 11.08, 10.71, 11.59, 12.11]\n",
    "                        })\n",
    "precios"
   ],
   "id": "18132358fe567fcc",
   "outputs": [
    {
     "data": {
      "text/plain": [
       "   BLUE  ORAGNE\n",
       "0  8.70   10.66\n",
       "1  8.91   11.08\n",
       "2  8.71   10.71\n",
       "3  8.43   11.59\n",
       "4  8.73   12.11"
      ],
      "text/html": [
       "<div>\n",
       "<style scoped>\n",
       "    .dataframe tbody tr th:only-of-type {\n",
       "        vertical-align: middle;\n",
       "    }\n",
       "\n",
       "    .dataframe tbody tr th {\n",
       "        vertical-align: top;\n",
       "    }\n",
       "\n",
       "    .dataframe thead th {\n",
       "        text-align: right;\n",
       "    }\n",
       "</style>\n",
       "<table border=\"1\" class=\"dataframe\">\n",
       "  <thead>\n",
       "    <tr style=\"text-align: right;\">\n",
       "      <th></th>\n",
       "      <th>BLUE</th>\n",
       "      <th>ORAGNE</th>\n",
       "    </tr>\n",
       "  </thead>\n",
       "  <tbody>\n",
       "    <tr>\n",
       "      <th>0</th>\n",
       "      <td>8.70</td>\n",
       "      <td>10.66</td>\n",
       "    </tr>\n",
       "    <tr>\n",
       "      <th>1</th>\n",
       "      <td>8.91</td>\n",
       "      <td>11.08</td>\n",
       "    </tr>\n",
       "    <tr>\n",
       "      <th>2</th>\n",
       "      <td>8.71</td>\n",
       "      <td>10.71</td>\n",
       "    </tr>\n",
       "    <tr>\n",
       "      <th>3</th>\n",
       "      <td>8.43</td>\n",
       "      <td>11.59</td>\n",
       "    </tr>\n",
       "    <tr>\n",
       "      <th>4</th>\n",
       "      <td>8.73</td>\n",
       "      <td>12.11</td>\n",
       "    </tr>\n",
       "  </tbody>\n",
       "</table>\n",
       "</div>"
      ]
     },
     "execution_count": 11,
     "metadata": {},
     "output_type": "execute_result"
    }
   ],
   "execution_count": 11
  },
  {
   "metadata": {
    "ExecuteTime": {
     "end_time": "2025-07-24T21:14:04.431553Z",
     "start_time": "2025-07-24T21:14:04.415178Z"
    }
   },
   "cell_type": "code",
   "source": "precios.iloc[1:]",
   "id": "8de5fd32507d18e6",
   "outputs": [
    {
     "data": {
      "text/plain": [
       "   BLUE  ORAGNE\n",
       "1  8.91   11.08\n",
       "2  8.71   10.71\n",
       "3  8.43   11.59\n",
       "4  8.73   12.11"
      ],
      "text/html": [
       "<div>\n",
       "<style scoped>\n",
       "    .dataframe tbody tr th:only-of-type {\n",
       "        vertical-align: middle;\n",
       "    }\n",
       "\n",
       "    .dataframe tbody tr th {\n",
       "        vertical-align: top;\n",
       "    }\n",
       "\n",
       "    .dataframe thead th {\n",
       "        text-align: right;\n",
       "    }\n",
       "</style>\n",
       "<table border=\"1\" class=\"dataframe\">\n",
       "  <thead>\n",
       "    <tr style=\"text-align: right;\">\n",
       "      <th></th>\n",
       "      <th>BLUE</th>\n",
       "      <th>ORAGNE</th>\n",
       "    </tr>\n",
       "  </thead>\n",
       "  <tbody>\n",
       "    <tr>\n",
       "      <th>1</th>\n",
       "      <td>8.91</td>\n",
       "      <td>11.08</td>\n",
       "    </tr>\n",
       "    <tr>\n",
       "      <th>2</th>\n",
       "      <td>8.71</td>\n",
       "      <td>10.71</td>\n",
       "    </tr>\n",
       "    <tr>\n",
       "      <th>3</th>\n",
       "      <td>8.43</td>\n",
       "      <td>11.59</td>\n",
       "    </tr>\n",
       "    <tr>\n",
       "      <th>4</th>\n",
       "      <td>8.73</td>\n",
       "      <td>12.11</td>\n",
       "    </tr>\n",
       "  </tbody>\n",
       "</table>\n",
       "</div>"
      ]
     },
     "execution_count": 12,
     "metadata": {},
     "output_type": "execute_result"
    }
   ],
   "execution_count": 12
  },
  {
   "metadata": {
    "ExecuteTime": {
     "end_time": "2025-07-24T21:14:53.619752Z",
     "start_time": "2025-07-24T21:14:53.598666Z"
    }
   },
   "cell_type": "code",
   "source": "precios.iloc[:-1]",
   "id": "b7bc14e87d5b6816",
   "outputs": [
    {
     "data": {
      "text/plain": [
       "   BLUE  ORAGNE\n",
       "0  8.70   10.66\n",
       "1  8.91   11.08\n",
       "2  8.71   10.71\n",
       "3  8.43   11.59"
      ],
      "text/html": [
       "<div>\n",
       "<style scoped>\n",
       "    .dataframe tbody tr th:only-of-type {\n",
       "        vertical-align: middle;\n",
       "    }\n",
       "\n",
       "    .dataframe tbody tr th {\n",
       "        vertical-align: top;\n",
       "    }\n",
       "\n",
       "    .dataframe thead th {\n",
       "        text-align: right;\n",
       "    }\n",
       "</style>\n",
       "<table border=\"1\" class=\"dataframe\">\n",
       "  <thead>\n",
       "    <tr style=\"text-align: right;\">\n",
       "      <th></th>\n",
       "      <th>BLUE</th>\n",
       "      <th>ORAGNE</th>\n",
       "    </tr>\n",
       "  </thead>\n",
       "  <tbody>\n",
       "    <tr>\n",
       "      <th>0</th>\n",
       "      <td>8.70</td>\n",
       "      <td>10.66</td>\n",
       "    </tr>\n",
       "    <tr>\n",
       "      <th>1</th>\n",
       "      <td>8.91</td>\n",
       "      <td>11.08</td>\n",
       "    </tr>\n",
       "    <tr>\n",
       "      <th>2</th>\n",
       "      <td>8.71</td>\n",
       "      <td>10.71</td>\n",
       "    </tr>\n",
       "    <tr>\n",
       "      <th>3</th>\n",
       "      <td>8.43</td>\n",
       "      <td>11.59</td>\n",
       "    </tr>\n",
       "  </tbody>\n",
       "</table>\n",
       "</div>"
      ]
     },
     "execution_count": 13,
     "metadata": {},
     "output_type": "execute_result"
    }
   ],
   "execution_count": 13
  },
  {
   "metadata": {
    "ExecuteTime": {
     "end_time": "2025-07-24T21:15:32.513494Z",
     "start_time": "2025-07-24T21:15:32.484249Z"
    }
   },
   "cell_type": "code",
   "source": "precios.iloc[1:]/precios.iloc[:-1]",
   "id": "21896bafe2430be1",
   "outputs": [
    {
     "data": {
      "text/plain": [
       "   BLUE  ORAGNE\n",
       "0   NaN     NaN\n",
       "1   1.0     1.0\n",
       "2   1.0     1.0\n",
       "3   1.0     1.0\n",
       "4   NaN     NaN"
      ],
      "text/html": [
       "<div>\n",
       "<style scoped>\n",
       "    .dataframe tbody tr th:only-of-type {\n",
       "        vertical-align: middle;\n",
       "    }\n",
       "\n",
       "    .dataframe tbody tr th {\n",
       "        vertical-align: top;\n",
       "    }\n",
       "\n",
       "    .dataframe thead th {\n",
       "        text-align: right;\n",
       "    }\n",
       "</style>\n",
       "<table border=\"1\" class=\"dataframe\">\n",
       "  <thead>\n",
       "    <tr style=\"text-align: right;\">\n",
       "      <th></th>\n",
       "      <th>BLUE</th>\n",
       "      <th>ORAGNE</th>\n",
       "    </tr>\n",
       "  </thead>\n",
       "  <tbody>\n",
       "    <tr>\n",
       "      <th>0</th>\n",
       "      <td>NaN</td>\n",
       "      <td>NaN</td>\n",
       "    </tr>\n",
       "    <tr>\n",
       "      <th>1</th>\n",
       "      <td>1.0</td>\n",
       "      <td>1.0</td>\n",
       "    </tr>\n",
       "    <tr>\n",
       "      <th>2</th>\n",
       "      <td>1.0</td>\n",
       "      <td>1.0</td>\n",
       "    </tr>\n",
       "    <tr>\n",
       "      <th>3</th>\n",
       "      <td>1.0</td>\n",
       "      <td>1.0</td>\n",
       "    </tr>\n",
       "    <tr>\n",
       "      <th>4</th>\n",
       "      <td>NaN</td>\n",
       "      <td>NaN</td>\n",
       "    </tr>\n",
       "  </tbody>\n",
       "</table>\n",
       "</div>"
      ]
     },
     "execution_count": 14,
     "metadata": {},
     "output_type": "execute_result"
    }
   ],
   "execution_count": 14
  },
  {
   "metadata": {
    "ExecuteTime": {
     "end_time": "2025-07-24T21:18:25.916848Z",
     "start_time": "2025-07-24T21:18:25.903814Z"
    }
   },
   "cell_type": "code",
   "source": "precios.iloc[1:].values/precios.iloc[:-1] -1",
   "id": "c914f8863fa69e66",
   "outputs": [
    {
     "data": {
      "text/plain": [
       "       BLUE    ORAGNE\n",
       "0  0.024138  0.039400\n",
       "1 -0.022447 -0.033394\n",
       "2 -0.032147  0.082166\n",
       "3  0.035587  0.044866"
      ],
      "text/html": [
       "<div>\n",
       "<style scoped>\n",
       "    .dataframe tbody tr th:only-of-type {\n",
       "        vertical-align: middle;\n",
       "    }\n",
       "\n",
       "    .dataframe tbody tr th {\n",
       "        vertical-align: top;\n",
       "    }\n",
       "\n",
       "    .dataframe thead th {\n",
       "        text-align: right;\n",
       "    }\n",
       "</style>\n",
       "<table border=\"1\" class=\"dataframe\">\n",
       "  <thead>\n",
       "    <tr style=\"text-align: right;\">\n",
       "      <th></th>\n",
       "      <th>BLUE</th>\n",
       "      <th>ORAGNE</th>\n",
       "    </tr>\n",
       "  </thead>\n",
       "  <tbody>\n",
       "    <tr>\n",
       "      <th>0</th>\n",
       "      <td>0.024138</td>\n",
       "      <td>0.039400</td>\n",
       "    </tr>\n",
       "    <tr>\n",
       "      <th>1</th>\n",
       "      <td>-0.022447</td>\n",
       "      <td>-0.033394</td>\n",
       "    </tr>\n",
       "    <tr>\n",
       "      <th>2</th>\n",
       "      <td>-0.032147</td>\n",
       "      <td>0.082166</td>\n",
       "    </tr>\n",
       "    <tr>\n",
       "      <th>3</th>\n",
       "      <td>0.035587</td>\n",
       "      <td>0.044866</td>\n",
       "    </tr>\n",
       "  </tbody>\n",
       "</table>\n",
       "</div>"
      ]
     },
     "execution_count": 16,
     "metadata": {},
     "output_type": "execute_result"
    }
   ],
   "execution_count": 16
  },
  {
   "metadata": {
    "ExecuteTime": {
     "end_time": "2025-07-24T21:18:57.973354Z",
     "start_time": "2025-07-24T21:18:57.958436Z"
    }
   },
   "cell_type": "code",
   "source": "precios.iloc[1:].values/precios.iloc[:-1].values",
   "id": "12ab441c24cfefde",
   "outputs": [
    {
     "data": {
      "text/plain": [
       "array([[1.02413793, 1.03939962],\n",
       "       [0.97755331, 0.9666065 ],\n",
       "       [0.96785304, 1.0821662 ],\n",
       "       [1.03558719, 1.04486626]])"
      ]
     },
     "execution_count": 17,
     "metadata": {},
     "output_type": "execute_result"
    }
   ],
   "execution_count": 17
  },
  {
   "metadata": {
    "ExecuteTime": {
     "end_time": "2025-07-24T22:14:21.472984Z",
     "start_time": "2025-07-24T22:14:21.435691Z"
    }
   },
   "cell_type": "code",
   "source": "precios/precios.shift(1) - 1",
   "id": "9d80cecf28a55ae",
   "outputs": [
    {
     "data": {
      "text/plain": [
       "       BLUE    ORAGNE\n",
       "0       NaN       NaN\n",
       "1  0.024138  0.039400\n",
       "2 -0.022447 -0.033394\n",
       "3 -0.032147  0.082166\n",
       "4  0.035587  0.044866"
      ],
      "text/html": [
       "<div>\n",
       "<style scoped>\n",
       "    .dataframe tbody tr th:only-of-type {\n",
       "        vertical-align: middle;\n",
       "    }\n",
       "\n",
       "    .dataframe tbody tr th {\n",
       "        vertical-align: top;\n",
       "    }\n",
       "\n",
       "    .dataframe thead th {\n",
       "        text-align: right;\n",
       "    }\n",
       "</style>\n",
       "<table border=\"1\" class=\"dataframe\">\n",
       "  <thead>\n",
       "    <tr style=\"text-align: right;\">\n",
       "      <th></th>\n",
       "      <th>BLUE</th>\n",
       "      <th>ORAGNE</th>\n",
       "    </tr>\n",
       "  </thead>\n",
       "  <tbody>\n",
       "    <tr>\n",
       "      <th>0</th>\n",
       "      <td>NaN</td>\n",
       "      <td>NaN</td>\n",
       "    </tr>\n",
       "    <tr>\n",
       "      <th>1</th>\n",
       "      <td>0.024138</td>\n",
       "      <td>0.039400</td>\n",
       "    </tr>\n",
       "    <tr>\n",
       "      <th>2</th>\n",
       "      <td>-0.022447</td>\n",
       "      <td>-0.033394</td>\n",
       "    </tr>\n",
       "    <tr>\n",
       "      <th>3</th>\n",
       "      <td>-0.032147</td>\n",
       "      <td>0.082166</td>\n",
       "    </tr>\n",
       "    <tr>\n",
       "      <th>4</th>\n",
       "      <td>0.035587</td>\n",
       "      <td>0.044866</td>\n",
       "    </tr>\n",
       "  </tbody>\n",
       "</table>\n",
       "</div>"
      ]
     },
     "execution_count": 19,
     "metadata": {},
     "output_type": "execute_result"
    }
   ],
   "execution_count": 19
  },
  {
   "metadata": {
    "ExecuteTime": {
     "end_time": "2025-07-24T22:25:49.171912Z",
     "start_time": "2025-07-24T22:25:49.164375Z"
    }
   },
   "cell_type": "code",
   "source": "returns = precios.pct_change()",
   "id": "d2540dbfe8209667",
   "outputs": [],
   "execution_count": 41
  },
  {
   "metadata": {
    "ExecuteTime": {
     "end_time": "2025-07-24T22:20:09.118097Z",
     "start_time": "2025-07-24T22:20:07.353840Z"
    }
   },
   "cell_type": "code",
   "source": [
    "import matplotlib as mp\n",
    "precios.plot()"
   ],
   "id": "a2bd93febaebb94c",
   "outputs": [
    {
     "data": {
      "text/plain": [
       "<Axes: >"
      ]
     },
     "execution_count": 25,
     "metadata": {},
     "output_type": "execute_result"
    },
    {
     "data": {
      "text/plain": [
       "<Figure size 640x480 with 1 Axes>"
      ],
      "image/png": "[encoded data removed]"
     },
     "metadata": {},
     "output_type": "display_data"
    }
   ],
   "execution_count": 25
  },
  {
   "metadata": {
    "ExecuteTime": {
     "end_time": "2025-07-24T22:20:36.420214Z",
     "start_time": "2025-07-24T22:20:36.396912Z"
    }
   },
   "cell_type": "code",
   "source": "%matplotlib inline",
   "id": "9da85fcee0062a79",
   "outputs": [],
   "execution_count": 26
  },
  {
   "metadata": {
    "ExecuteTime": {
     "end_time": "2025-07-24T22:25:44.331754Z",
     "start_time": "2025-07-24T22:25:44.230509Z"
    }
   },
   "cell_type": "code",
   "source": "returns.plot.bar()",
   "id": "1599a9ffa92549f4",
   "outputs": [
    {
     "data": {
      "text/plain": [
       "<Axes: >"
      ]
     },
     "execution_count": 40,
     "metadata": {},
     "output_type": "execute_result"
    },
    {
     "data": {
      "text/plain": [
       "<Figure size 640x480 with 1 Axes>"
      ],
      "image/png": "[encoded data removed]"
     },
     "metadata": {},
     "output_type": "display_data"
    }
   ],
   "execution_count": 40
  },
  {
   "metadata": {
    "ExecuteTime": {
     "end_time": "2025-07-24T22:26:01.983446Z",
     "start_time": "2025-07-24T22:26:01.963157Z"
    }
   },
   "cell_type": "code",
   "source": "returns.std()",
   "id": "17a299111747ad9d",
   "outputs": [
    {
     "data": {
      "text/plain": [
       "BLUE      0.033565\n",
       "ORAGNE    0.048328\n",
       "dtype: float64"
      ]
     },
     "execution_count": 42,
     "metadata": {},
     "output_type": "execute_result"
    }
   ],
   "execution_count": 42
  },
  {
   "metadata": {
    "ExecuteTime": {
     "end_time": "2025-07-24T22:26:27.786570Z",
     "start_time": "2025-07-24T22:26:27.766626Z"
    }
   },
   "cell_type": "code",
   "source": "returns.mean()",
   "id": "148a5dc525f6b6a3",
   "outputs": [
    {
     "data": {
      "text/plain": [
       "BLUE      0.001283\n",
       "ORAGNE    0.033260\n",
       "dtype: float64"
      ]
     },
     "execution_count": 43,
     "metadata": {},
     "output_type": "execute_result"
    }
   ],
   "execution_count": 43
  },
  {
   "metadata": {
    "ExecuteTime": {
     "end_time": "2025-07-24T22:27:02.284510Z",
     "start_time": "2025-07-24T22:27:02.260711Z"
    }
   },
   "cell_type": "code",
   "source": "returns +1",
   "id": "2a80c8dc123ae78",
   "outputs": [
    {
     "data": {
      "text/plain": [
       "       BLUE    ORAGNE\n",
       "0       NaN       NaN\n",
       "1  1.024138  1.039400\n",
       "2  0.977553  0.966606\n",
       "3  0.967853  1.082166\n",
       "4  1.035587  1.044866"
      ],
      "text/html": [
       "<div>\n",
       "<style scoped>\n",
       "    .dataframe tbody tr th:only-of-type {\n",
       "        vertical-align: middle;\n",
       "    }\n",
       "\n",
       "    .dataframe tbody tr th {\n",
       "        vertical-align: top;\n",
       "    }\n",
       "\n",
       "    .dataframe thead th {\n",
       "        text-align: right;\n",
       "    }\n",
       "</style>\n",
       "<table border=\"1\" class=\"dataframe\">\n",
       "  <thead>\n",
       "    <tr style=\"text-align: right;\">\n",
       "      <th></th>\n",
       "      <th>BLUE</th>\n",
       "      <th>ORAGNE</th>\n",
       "    </tr>\n",
       "  </thead>\n",
       "  <tbody>\n",
       "    <tr>\n",
       "      <th>0</th>\n",
       "      <td>NaN</td>\n",
       "      <td>NaN</td>\n",
       "    </tr>\n",
       "    <tr>\n",
       "      <th>1</th>\n",
       "      <td>1.024138</td>\n",
       "      <td>1.039400</td>\n",
       "    </tr>\n",
       "    <tr>\n",
       "      <th>2</th>\n",
       "      <td>0.977553</td>\n",
       "      <td>0.966606</td>\n",
       "    </tr>\n",
       "    <tr>\n",
       "      <th>3</th>\n",
       "      <td>0.967853</td>\n",
       "      <td>1.082166</td>\n",
       "    </tr>\n",
       "    <tr>\n",
       "      <th>4</th>\n",
       "      <td>1.035587</td>\n",
       "      <td>1.044866</td>\n",
       "    </tr>\n",
       "  </tbody>\n",
       "</table>\n",
       "</div>"
      ]
     },
     "execution_count": 44,
     "metadata": {},
     "output_type": "execute_result"
    }
   ],
   "execution_count": 44
  },
  {
   "metadata": {
    "ExecuteTime": {
     "end_time": "2025-07-24T22:28:07.781416Z",
     "start_time": "2025-07-24T22:28:07.758441Z"
    }
   },
   "cell_type": "code",
   "source": "np.prod(returns+1)-1",
   "id": "4c6b5e24ffb1bc84",
   "outputs": [
    {
     "name": "stderr",
     "output_type": "stream",
     "text": [
      "/Users/byemmanuel/Library/Python/3.9/lib/python/site-packages/numpy/core/fromnumeric.py:86: FutureWarning: The behavior of DataFrame.prod with axis=None is deprecated, in a future version this will reduce over both axes and return a scalar. To retain the old behavior, pass axis=0 (or do not pass axis)\n",
      "  return reduction(axis=axis, out=out, **passkwargs)\n"
     ]
    },
    {
     "data": {
      "text/plain": [
       "BLUE      0.003448\n",
       "ORAGNE    0.136023\n",
       "dtype: float64"
      ]
     },
     "execution_count": 46,
     "metadata": {},
     "output_type": "execute_result"
    }
   ],
   "execution_count": 46
  },
  {
   "metadata": {
    "ExecuteTime": {
     "end_time": "2025-07-24T23:10:54.335868Z",
     "start_time": "2025-07-24T23:10:54.307509Z"
    }
   },
   "cell_type": "code",
   "source": [
    "capital = np.array([54767,52666,50100,55300,55300,51428,52615,51771])\n",
    "capital_frame = pd.DataFrame({\"Capital\" : [54767, 52666, 50100, 55300, 55300, 51428, 52615, 51771]})\n",
    "capital_frame"
   ],
   "id": "d61faefbdd2e8ce1",
   "outputs": [
    {
     "data": {
      "text/plain": [
       "   Capital\n",
       "0    54767\n",
       "1    52666\n",
       "2    50100\n",
       "3    55300\n",
       "4    55300\n",
       "5    51428\n",
       "6    52615\n",
       "7    51771"
      ],
      "text/html": [
       "<div>\n",
       "<style scoped>\n",
       "    .dataframe tbody tr th:only-of-type {\n",
       "        vertical-align: middle;\n",
       "    }\n",
       "\n",
       "    .dataframe tbody tr th {\n",
       "        vertical-align: top;\n",
       "    }\n",
       "\n",
       "    .dataframe thead th {\n",
       "        text-align: right;\n",
       "    }\n",
       "</style>\n",
       "<table border=\"1\" class=\"dataframe\">\n",
       "  <thead>\n",
       "    <tr style=\"text-align: right;\">\n",
       "      <th></th>\n",
       "      <th>Capital</th>\n",
       "    </tr>\n",
       "  </thead>\n",
       "  <tbody>\n",
       "    <tr>\n",
       "      <th>0</th>\n",
       "      <td>54767</td>\n",
       "    </tr>\n",
       "    <tr>\n",
       "      <th>1</th>\n",
       "      <td>52666</td>\n",
       "    </tr>\n",
       "    <tr>\n",
       "      <th>2</th>\n",
       "      <td>50100</td>\n",
       "    </tr>\n",
       "    <tr>\n",
       "      <th>3</th>\n",
       "      <td>55300</td>\n",
       "    </tr>\n",
       "    <tr>\n",
       "      <th>4</th>\n",
       "      <td>55300</td>\n",
       "    </tr>\n",
       "    <tr>\n",
       "      <th>5</th>\n",
       "      <td>51428</td>\n",
       "    </tr>\n",
       "    <tr>\n",
       "      <th>6</th>\n",
       "      <td>52615</td>\n",
       "    </tr>\n",
       "    <tr>\n",
       "      <th>7</th>\n",
       "      <td>51771</td>\n",
       "    </tr>\n",
       "  </tbody>\n",
       "</table>\n",
       "</div>"
      ]
     },
     "execution_count": 67,
     "metadata": {},
     "output_type": "execute_result"
    }
   ],
   "execution_count": 67
  },
  {
   "metadata": {
    "ExecuteTime": {
     "end_time": "2025-07-24T23:10:59.280374Z",
     "start_time": "2025-07-24T23:10:59.144453Z"
    }
   },
   "cell_type": "code",
   "source": "capital_frame.plot()",
   "id": "4ede69f5cce5072",
   "outputs": [
    {
     "data": {
      "text/plain": [
       "<Axes: >"
      ]
     },
     "execution_count": 68,
     "metadata": {},
     "output_type": "execute_result"
    },
    {
     "data": {
      "text/plain": [
       "<Figure size 640x480 with 1 Axes>"
      ],
      "image/png": "[encoded data removed]"
     },
     "metadata": {},
     "output_type": "display_data"
    }
   ],
   "execution_count": 68
  },
  {
   "metadata": {
    "ExecuteTime": {
     "end_time": "2025-07-25T02:05:49.690254Z",
     "start_time": "2025-07-25T02:05:49.495093Z"
    }
   },
   "cell_type": "code",
   "source": [
    "import math\n",
    "meses = (25000 / 12)\n",
    "mes_actual = 49979\n",
    "\n",
    "## 6 meses\n",
    "\n",
    "array_capital_total = []\n",
    "\n",
    "\n",
    "for i in range(0,12):\n",
    "    mes_actual -= meses.__round__()\n",
    "    array_capital_total.append(mes_actual)\n",
    "\n",
    "capital_frame = pd.DataFrame({\"Capital\" : [54767, 52666, 50100, 55300, 51428, 52615, 51771,  array_capital_total[0] , array_capital_total[1] , array_capital_total[2],array_capital_total[3], array_capital_total[4], array_capital_total[5] ]})\n",
    "capital_frame.plot()"
   ],
   "id": "85098e7bac35cc10",
   "outputs": [
    {
     "data": {
      "text/plain": [
       "<Axes: >"
      ]
     },
     "execution_count": 89,
     "metadata": {},
     "output_type": "execute_result"
    },
    {
     "data": {
      "text/plain": [
       "<Figure size 640x480 with 1 Axes>"
      ],
      "image/png": "[encoded data removed]"
     },
     "metadata": {},
     "output_type": "display_data"
    }
   ],
   "execution_count": 89
  },
  {
   "metadata": {
    "ExecuteTime": {
     "end_time": "2025-07-25T02:05:53.238622Z",
     "start_time": "2025-07-25T02:05:53.230647Z"
    }
   },
   "cell_type": "code",
   "source": "array_capital_total",
   "id": "29b4571376a20a2f",
   "outputs": [
    {
     "data": {
      "text/plain": [
       "[47896,\n",
       " 45813,\n",
       " 43730,\n",
       " 41647,\n",
       " 39564,\n",
       " 37481,\n",
       " 35398,\n",
       " 33315,\n",
       " 31232,\n",
       " 29149,\n",
       " 27066,\n",
       " 24983]"
      ]
     },
     "execution_count": 90,
     "metadata": {},
     "output_type": "execute_result"
    }
   ],
   "execution_count": 90
  },
  {
   "metadata": {},
   "cell_type": "code",
   "outputs": [],
   "execution_count": null,
   "source": "",
   "id": "225e61586dc29f99"
  }
 ],
 "metadata": {
  "kernelspec": {
   "display_name": "Python 3",
   "language": "python",
   "name": "python3"
  },
  "language_info": {
   "codemirror_mode": {
    "name": "ipython",
    "version": 2
   },
   "file_extension": ".py",
   "mimetype": "text/x-python",
   "name": "python",
   "nbconvert_exporter": "python",
   "pygments_lexer": "ipython2",
   "version": "2.7.6"
  }
 },
 "nbformat": 4,
 "nbformat_minor": 5
}
