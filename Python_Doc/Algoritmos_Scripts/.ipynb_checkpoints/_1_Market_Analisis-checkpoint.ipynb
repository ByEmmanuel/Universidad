{
 "cells": [
  {
   "metadata": {},
   "cell_type": "markdown",
   "source": [
    "R_t, R_(t+1) = (P_(t+1) - P_t)/P_t\n",
    "O alternativamente\n",
    "R_t, R_(t+1) = (P_(t+1) / P_t) -1"
   ],
   "id": "606bb8abbaf75d6f"
  },
  {
   "metadata": {
    "ExecuteTime": {
     "end_time": "2025-07-24T20:51:44.928778Z",
     "start_time": "2025-07-24T20:51:44.920593Z"
    }
   },
   "cell_type": "code",
   "source": [
    "precios_a = [8.70, 8.91, 8.71]\n",
    "print((precios_a[1]/precios_a[0]) - 1)\n",
    "print((precios_a[2]/precios_a[1]) - 1)"
   ],
   "id": "8e216c75fe056728",
   "outputs": [
    {
     "name": "stdout",
     "output_type": "stream",
     "text": [
      "0.024137931034482918\n",
      "-0.022446689113355678\n"
     ]
    }
   ],
   "execution_count": 4
  },
  {
   "metadata": {},
   "cell_type": "markdown",
   "source": "### ¿Que representa esto?\n",
   "id": "bb81bdc85de940a1"
  }
 ],
 "metadata": {
  "kernelspec": {
   "display_name": "Python 3",
   "language": "python",
   "name": "python3"
  },
  "language_info": {
   "codemirror_mode": {
    "name": "ipython",
    "version": 2
   },
   "file_extension": ".py",
   "mimetype": "text/x-python",
   "name": "python",
   "nbconvert_exporter": "python",
   "pygments_lexer": "ipython2",
   "version": "2.7.6"
  }
 },
 "nbformat": 4,
 "nbformat_minor": 5
}
